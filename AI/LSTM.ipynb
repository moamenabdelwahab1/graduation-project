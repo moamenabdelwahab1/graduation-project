{
  "nbformat": 4,
  "nbformat_minor": 0,
  "metadata": {
    "colab": {
      "provenance": [],
      "gpuType": "T4",
      "toc_visible": true
    },
    "kernelspec": {
      "name": "python3",
      "display_name": "Python 3"
    },
    "language_info": {
      "name": "python"
    },
    "accelerator": "GPU"
  },
  "cells": [
    {
      "cell_type": "code",
      "execution_count": null,
      "metadata": {
        "id": "XJrXIBQOYhJb"
      },
      "outputs": [],
      "source": [
        "import pandas as pd\n",
        "import numpy as np\n",
        "import tensorflow as tf\n",
        "import os\n",
        "from tensorflow.keras.preprocessing.text import Tokenizer\n",
        "from tensorflow.keras.preprocessing.sequence import pad_sequences\n",
        "from sklearn.model_selection import train_test_split\n",
        "from tensorflow.keras.layers import Embedding, LSTM, Dense, Dropout, Bidirectional\n",
        "from tensorflow.keras.models import Sequential\n",
        "from tensorflow.keras.utils import to_categorical\n",
        "from tensorflow.keras.layers import BatchNormalization\n",
        "from tensorflow.keras.callbacks import EarlyStopping,ReduceLROnPlateau"
      ]
    },
    {
      "cell_type": "code",
      "source": [
        "from google.colab import drive\n",
        "drive.mount('/content/drive')"
      ],
      "metadata": {
        "id": "GG5I45iHYcbG",
        "colab": {
          "base_uri": "https://localhost:8080/"
        },
        "outputId": "d0372a55-326e-4cf8-f41f-9ccec9404e09"
      },
      "execution_count": null,
      "outputs": [
        {
          "output_type": "stream",
          "name": "stdout",
          "text": [
            "Mounted at /content/drive\n"
          ]
        }
      ]
    },
    {
      "cell_type": "code",
      "source": [
        "# Load the dataset\n",
        "file_path = \"/content/drive/MyDrive/450k_stars.csv\"\n",
        "df = pd.read_csv(file_path)\n",
        "\n",
        "# ========================\n",
        "# Step 1: Map sentiment to integer labels\n",
        "label_mapping = {\"negative\": 0, \"neutral\": 1, \"positive\": 2}\n",
        "df['sentiment'] = df['sentiment'].map(label_mapping)\n",
        "\n",
        "# ========================\n",
        "# Step 2: Tokenize the reviews\n",
        "max_words = 20000  # Limit the vocabulary size\n",
        "max_sequence_length = 200  # Max sequence length to pad/truncate\n",
        "\n",
        "tokenizer = Tokenizer(num_words=max_words, oov_token=\"<OOV>\")\n",
        "tokenizer.fit_on_texts(df['reviews'])\n",
        "\n",
        "# Convert reviews to sequences and pad them\n",
        "X = tokenizer.texts_to_sequences(df['reviews'])\n",
        "X = pad_sequences(X, maxlen=max_sequence_length)\n",
        "\n",
        "# Extract labels\n",
        "y = df['sentiment'].values\n",
        "# Save tokenizer\n",
        "with open(\"tokenizer.json\", \"w\") as f:\n",
        "    f.write(tokenizer.to_json())\n",
        "# ========================\n",
        "# Step 3: Optional sample weights (downweight 2★ and 4★)\n",
        "def compute_sample_weight(row):\n",
        "    return 0.7 if row['rating'] in [2, 4] else 1.0\n",
        "\n",
        "sample_weights = df.apply(compute_sample_weight, axis=1).values\n",
        "\n",
        "# ========================\n",
        "# Step 4: Train/val/test split\n",
        "X_train, X_temp, y_train, y_temp, sw_train, sw_temp = train_test_split(\n",
        "    X, y, sample_weights, test_size=0.2, random_state=42)\n",
        "\n",
        "X_val, X_test, y_val, y_test, sw_val, sw_test = train_test_split(\n",
        "    X_temp, y_temp, sw_temp, test_size=0.5, random_state=42)\n",
        "\n",
        "# ========================\n",
        "# Step 5: Load GloVe embeddings\n",
        "glove_path = \"/content/drive/MyDrive/glove.6B.100d.txt\"\n",
        "embedding_dim = 100  # عدد الأبعاد في GloVe\n",
        "# إنشاء قاموس للكلمات وأوزانها من GloVe\n",
        "embeddings_index = {}\n",
        "with open(glove_path, encoding=\"utf-8\") as f:\n",
        "    for line in f:\n",
        "        values = line.split()\n",
        "        word = values[0]\n",
        "        coefs = np.asarray(values[1:], dtype='float32')\n",
        "        embeddings_index[word] = coefs\n",
        "\n",
        "word_index = tokenizer.word_index  # مفردات النموذج\n",
        "num_words = min(20000, len(word_index) + 1)\n",
        "embedding_matrix = np.zeros((num_words, embedding_dim))\n",
        "\n",
        "for word, i in word_index.items():\n",
        "    if i < num_words:\n",
        "        embedding_vector = embeddings_index.get(word)\n",
        "        if embedding_vector is not None:\n",
        "            embedding_matrix[i] = embedding_vector  # استخدام التضمين من GloVe\n",
        "\n",
        "\n",
        "# ========================\n",
        "# Step 6: Build the LSTM model\n",
        "model = Sequential([\n",
        "    Embedding(input_dim=num_words, output_dim=embedding_dim, input_length=200, weights=[embedding_matrix], trainable=True),\n",
        "    Bidirectional(LSTM(64, return_sequences=True)),\n",
        "    BatchNormalization(),\n",
        "    Dropout(0.3),\n",
        "    Bidirectional(LSTM(32)),\n",
        "    BatchNormalization(),\n",
        "    Dropout(0.3),\n",
        "    Dense(32, activation=\"relu\"),\n",
        "    Dense(3, activation=\"softmax\")\n",
        "])\n",
        "\n",
        "model.compile(loss='sparse_categorical_crossentropy', optimizer='adam', metrics=['accuracy'])\n",
        "\n",
        "# ========================\n",
        "# Step 7: Train the model\n",
        "early_stopping = EarlyStopping(monitor='val_accuracy', patience=4, mode='max')\n",
        "lr_scheduler = ReduceLROnPlateau(factor=0.2, patience=2, min_lr=1e-6)\n",
        "\n",
        "history = model.fit(\n",
        "    X_train, y_train,\n",
        "    validation_data=(X_val, y_val),\n",
        "    sample_weight=sw_train,\n",
        "    epochs=10,\n",
        "    batch_size=64,\n",
        "    callbacks=[early_stopping, lr_scheduler],\n",
        "    verbose=1\n",
        ")\n",
        "\n",
        "# ========================\n",
        "# Step 8: Evaluate\n",
        "loss, accuracy = model.evaluate(X_test, y_test, verbose=1)\n",
        "print(f\"✅ Final Test Accuracy: {accuracy:.2f}\")\n",
        "\n",
        "# ========================\n",
        "# Step 9: Save model\n",
        "model.save(\"sentiment_LSTM_model.h5\")\n",
        "\n"
      ],
      "metadata": {
        "id": "OR7J21Q9m9K9",
        "colab": {
          "base_uri": "https://localhost:8080/"
        },
        "outputId": "0572aaa2-7922-4bda-d41f-8362d6d4b717"
      },
      "execution_count": null,
      "outputs": [
        {
          "output_type": "stream",
          "name": "stderr",
          "text": [
            "/usr/local/lib/python3.11/dist-packages/keras/src/layers/core/embedding.py:90: UserWarning: Argument `input_length` is deprecated. Just remove it.\n",
            "  warnings.warn(\n"
          ]
        },
        {
          "output_type": "stream",
          "name": "stdout",
          "text": [
            "Epoch 1/10\n",
            "\u001b[1m5625/5625\u001b[0m \u001b[32m━━━━━━━━━━━━━━━━━━━━\u001b[0m\u001b[37m\u001b[0m \u001b[1m199s\u001b[0m 34ms/step - accuracy: 0.6300 - loss: 0.6969 - val_accuracy: 0.7874 - val_loss: 0.5258 - learning_rate: 0.0010\n",
            "Epoch 2/10\n",
            "\u001b[1m5625/5625\u001b[0m \u001b[32m━━━━━━━━━━━━━━━━━━━━\u001b[0m\u001b[37m\u001b[0m \u001b[1m198s\u001b[0m 34ms/step - accuracy: 0.8107 - loss: 0.4125 - val_accuracy: 0.8403 - val_loss: 0.4110 - learning_rate: 0.0010\n",
            "Epoch 3/10\n",
            "\u001b[1m5625/5625\u001b[0m \u001b[32m━━━━━━━━━━━━━━━━━━━━\u001b[0m\u001b[37m\u001b[0m \u001b[1m193s\u001b[0m 34ms/step - accuracy: 0.8630 - loss: 0.3102 - val_accuracy: 0.8741 - val_loss: 0.3381 - learning_rate: 0.0010\n",
            "Epoch 4/10\n",
            "\u001b[1m5625/5625\u001b[0m \u001b[32m━━━━━━━━━━━━━━━━━━━━\u001b[0m\u001b[37m\u001b[0m \u001b[1m199s\u001b[0m 34ms/step - accuracy: 0.8963 - loss: 0.2421 - val_accuracy: 0.8922 - val_loss: 0.2987 - learning_rate: 0.0010\n",
            "Epoch 5/10\n",
            "\u001b[1m5625/5625\u001b[0m \u001b[32m━━━━━━━━━━━━━━━━━━━━\u001b[0m\u001b[37m\u001b[0m \u001b[1m193s\u001b[0m 34ms/step - accuracy: 0.9183 - loss: 0.1950 - val_accuracy: 0.9081 - val_loss: 0.2655 - learning_rate: 0.0010\n",
            "Epoch 6/10\n",
            "\u001b[1m5625/5625\u001b[0m \u001b[32m━━━━━━━━━━━━━━━━━━━━\u001b[0m\u001b[37m\u001b[0m \u001b[1m193s\u001b[0m 34ms/step - accuracy: 0.9333 - loss: 0.1614 - val_accuracy: 0.9170 - val_loss: 0.2451 - learning_rate: 0.0010\n",
            "Epoch 7/10\n",
            "\u001b[1m5625/5625\u001b[0m \u001b[32m━━━━━━━━━━━━━━━━━━━━\u001b[0m\u001b[37m\u001b[0m \u001b[1m198s\u001b[0m 34ms/step - accuracy: 0.9450 - loss: 0.1343 - val_accuracy: 0.9158 - val_loss: 0.2712 - learning_rate: 0.0010\n",
            "Epoch 8/10\n",
            "\u001b[1m5625/5625\u001b[0m \u001b[32m━━━━━━━━━━━━━━━━━━━━\u001b[0m\u001b[37m\u001b[0m \u001b[1m203s\u001b[0m 34ms/step - accuracy: 0.9530 - loss: 0.1150 - val_accuracy: 0.9282 - val_loss: 0.2316 - learning_rate: 0.0010\n",
            "Epoch 9/10\n",
            "\u001b[1m5625/5625\u001b[0m \u001b[32m━━━━━━━━━━━━━━━━━━━━\u001b[0m\u001b[37m\u001b[0m \u001b[1m188s\u001b[0m 34ms/step - accuracy: 0.9611 - loss: 0.0973 - val_accuracy: 0.9324 - val_loss: 0.2190 - learning_rate: 0.0010\n",
            "Epoch 10/10\n",
            "\u001b[1m5625/5625\u001b[0m \u001b[32m━━━━━━━━━━━━━━━━━━━━\u001b[0m\u001b[37m\u001b[0m \u001b[1m203s\u001b[0m 34ms/step - accuracy: 0.9659 - loss: 0.0869 - val_accuracy: 0.9357 - val_loss: 0.2164 - learning_rate: 0.0010\n",
            "\u001b[1m1407/1407\u001b[0m \u001b[32m━━━━━━━━━━━━━━━━━━━━\u001b[0m\u001b[37m\u001b[0m \u001b[1m20s\u001b[0m 14ms/step - accuracy: 0.9312 - loss: 0.2323\n"
          ]
        },
        {
          "output_type": "stream",
          "name": "stderr",
          "text": [
            "WARNING:absl:You are saving your model as an HDF5 file via `model.save()` or `keras.saving.save_model(model)`. This file format is considered legacy. We recommend using instead the native Keras format, e.g. `model.save('my_model.keras')` or `keras.saving.save_model(model, 'my_model.keras')`. \n"
          ]
        },
        {
          "output_type": "stream",
          "name": "stdout",
          "text": [
            "✅ Final Test Accuracy: 0.93\n"
          ]
        }
      ]
    },
    {
      "cell_type": "markdown",
      "source": [],
      "metadata": {
        "id": "vuYn4OzIW0Vn"
      }
    },
    {
      "cell_type": "code",
      "source": [],
      "metadata": {
        "id": "lsrVD-B5s6IX"
      },
      "execution_count": null,
      "outputs": []
    },
    {
      "cell_type": "code",
      "metadata": {
        "colab": {
          "base_uri": "https://localhost:8080/"
        },
        "id": "bb75ab5e",
        "outputId": "103999ff-9409-413c-a769-4b7c7700f462"
      },
      "source": [
        "import shutil\n",
        "\n",
        "# Define the source files\n",
        "source_files = [\"/content/sentiment_LSTM_model.h5\", \"/content/tokenizer.json\"]\n",
        "\n",
        "# Define the destination directory in Google Drive\n",
        "destination_dir = \"/content/drive/MyDrive/\"\n",
        "\n",
        "# Copy each file to the destination directory\n",
        "for file_path in source_files:\n",
        "    try:\n",
        "        shutil.copy(file_path, destination_dir)\n",
        "        print(f\"Copied {file_path} to {destination_dir}\")\n",
        "    except FileNotFoundError:\n",
        "        print(f\"Error: {file_path} not found.\")\n",
        "    except Exception as e:\n",
        "        print(f\"An error occurred while copying {file_path}: {e}\")"
      ],
      "execution_count": null,
      "outputs": [
        {
          "output_type": "stream",
          "name": "stdout",
          "text": [
            "Copied /content/sentiment_LSTM_model.h5 to /content/drive/MyDrive/\n",
            "Copied /content/tokenizer.json to /content/drive/MyDrive/\n"
          ]
        }
      ]
    }
  ]
}